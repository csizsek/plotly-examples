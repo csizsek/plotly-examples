{
 "cells": [
  {
   "cell_type": "code",
   "execution_count": 1,
   "metadata": {},
   "outputs": [],
   "source": [
    "import numpy as np\n",
    "import pandas as pd\n",
    "import plotly.graph_objects as go\n",
    "\n",
    "np.random.seed(1337)"
   ]
  },
  {
   "cell_type": "code",
   "execution_count": 2,
   "metadata": {},
   "outputs": [],
   "source": [
    "n = 1000\n",
    "k = 20\n",
    "d_plot = pd.DataFrame(\n",
    "    {\n",
    "        \"name\": [f\"id_{i:03d}\" for i in range(n)],\n",
    "        \"x\": 5 + np.random.randn(n),\n",
    "        \"category\": np.random.choice([f\"category_{i:02d}\" for i in range(k)], n),\n",
    "        \"subcategory\": np.random.choice([\"hello\", \"world\"], n),\n",
    "    }\n",
    ")"
   ]
  },
  {
   "cell_type": "code",
   "execution_count": 3,
   "metadata": {},
   "outputs": [
    {
     "data": {
      "application/vnd.plotly.v1+json": {
       "config": {
        "plotlyServerURL": "https://plot.ly"
       },
       "data": [
        {
         "hovertemplate": "%{y}",
         "marker": {
          "color": "cornflowerblue"
         },
         "name": "",
         "showlegend": true,
         "text": [
          "287.6 (5.8%)"
         ],
         "type": "bar",
         "x": [
          "category_15"
         ],
         "y": [
          287.6050818181708
         ]
        },
        {
         "hovertemplate": "%{y}",
         "marker": {
          "color": "cornflowerblue"
         },
         "name": "",
         "showlegend": true,
         "text": [
          "284.9 (5.7%)"
         ],
         "type": "bar",
         "x": [
          "category_19"
         ],
         "y": [
          284.9217710626782
         ]
        },
        {
         "hovertemplate": "%{y}",
         "marker": {
          "color": "cornflowerblue"
         },
         "name": "",
         "showlegend": true,
         "text": [
          "281.1 (5.7%)"
         ],
         "type": "bar",
         "x": [
          "category_18"
         ],
         "y": [
          281.14863025949
         ]
        },
        {
         "hovertemplate": "%{y}",
         "marker": {
          "color": "cornflowerblue"
         },
         "name": "",
         "showlegend": true,
         "text": [
          "269.1 (5.4%)"
         ],
         "type": "bar",
         "x": [
          "category_12"
         ],
         "y": [
          269.07237508700337
         ]
        },
        {
         "hovertemplate": "%{y}",
         "marker": {
          "color": "cornflowerblue"
         },
         "name": "",
         "showlegend": true,
         "text": [
          "268.0 (5.4%)"
         ],
         "type": "bar",
         "x": [
          "category_00"
         ],
         "y": [
          267.9669434349921
         ]
        },
        {
         "hovertemplate": "%{y}",
         "marker": {
          "color": "cornflowerblue"
         },
         "name": "",
         "showlegend": true,
         "text": [
          "266.5 (5.4%)"
         ],
         "type": "bar",
         "x": [
          "category_13"
         ],
         "y": [
          266.4994045803582
         ]
        },
        {
         "hovertemplate": "%{y}",
         "marker": {
          "color": "cornflowerblue"
         },
         "name": "",
         "showlegend": true,
         "text": [
          "263.7 (5.3%)"
         ],
         "type": "bar",
         "x": [
          "category_14"
         ],
         "y": [
          263.6588856887406
         ]
        },
        {
         "hovertemplate": "%{y}",
         "marker": {
          "color": "cornflowerblue"
         },
         "name": "",
         "showlegend": true,
         "text": [
          "261.4 (5.3%)"
         ],
         "type": "bar",
         "x": [
          "category_10"
         ],
         "y": [
          261.43365674023573
         ]
        },
        {
         "hovertemplate": "%{y}",
         "marker": {
          "color": "cornflowerblue"
         },
         "name": "",
         "showlegend": true,
         "text": [
          "258.2 (5.2%)"
         ],
         "type": "bar",
         "x": [
          "category_01"
         ],
         "y": [
          258.16590412620104
         ]
        },
        {
         "hovertemplate": "%{y}",
         "marker": {
          "color": "cornflowerblue"
         },
         "name": "",
         "showlegend": true,
         "text": [
          "253.6 (5.1%)"
         ],
         "type": "bar",
         "x": [
          "category_02"
         ],
         "y": [
          253.6474969372926
         ]
        },
        {
         "hovertemplate": "%{y}",
         "marker": {
          "color": "cornflowerblue"
         },
         "name": "",
         "showlegend": true,
         "text": [
          "248.0 (5.0%)"
         ],
         "type": "bar",
         "x": [
          "category_11"
         ],
         "y": [
          248.02162672091248
         ]
        },
        {
         "hovertemplate": "%{y}",
         "marker": {
          "color": "cornflowerblue"
         },
         "name": "",
         "showlegend": true,
         "text": [
          "246.8 (5.0%)"
         ],
         "type": "bar",
         "x": [
          "category_03"
         ],
         "y": [
          246.82276629428952
         ]
        },
        {
         "hovertemplate": "%{y}",
         "marker": {
          "color": "cornflowerblue"
         },
         "name": "",
         "showlegend": true,
         "text": [
          "243.7 (4.9%)"
         ],
         "type": "bar",
         "x": [
          "category_08"
         ],
         "y": [
          243.73584870970942
         ]
        },
        {
         "hovertemplate": "%{y}",
         "marker": {
          "color": "cornflowerblue"
         },
         "name": "",
         "showlegend": true,
         "text": [
          "240.8 (4.8%)"
         ],
         "type": "bar",
         "x": [
          "category_04"
         ],
         "y": [
          240.83482550048709
         ]
        },
        {
         "hovertemplate": "%{y}",
         "marker": {
          "color": "cornflowerblue"
         },
         "name": "",
         "showlegend": true,
         "text": [
          "227.0 (4.6%)"
         ],
         "type": "bar",
         "x": [
          "category_16"
         ],
         "y": [
          226.99197947748405
         ]
        },
        {
         "hovertemplate": "%{y}",
         "marker": {
          "color": "cornflowerblue"
         },
         "name": "",
         "showlegend": true,
         "text": [
          "225.0 (4.5%)"
         ],
         "type": "bar",
         "x": [
          "category_06"
         ],
         "y": [
          225.03636184427285
         ]
        },
        {
         "hovertemplate": "%{y}",
         "marker": {
          "color": "cornflowerblue"
         },
         "name": "",
         "showlegend": true,
         "text": [
          "221.2 (4.4%)"
         ],
         "type": "bar",
         "x": [
          "category_07"
         ],
         "y": [
          221.19477399478117
         ]
        },
        {
         "hovertemplate": "%{y}",
         "marker": {
          "color": "cornflowerblue"
         },
         "name": "",
         "showlegend": true,
         "text": [
          "216.1 (4.3%)"
         ],
         "type": "bar",
         "x": [
          "category_09"
         ],
         "y": [
          216.14539983505594
         ]
        },
        {
         "hovertemplate": "%{y}",
         "marker": {
          "color": "cornflowerblue"
         },
         "name": "",
         "showlegend": true,
         "text": [
          "212.3 (4.3%)"
         ],
         "type": "bar",
         "x": [
          "category_05"
         ],
         "y": [
          212.27792245184403
         ]
        },
        {
         "hovertemplate": "%{y}",
         "marker": {
          "color": "cornflowerblue"
         },
         "name": "",
         "showlegend": true,
         "text": [
          "199.3 (4.0%)"
         ],
         "type": "bar",
         "x": [
          "category_17"
         ],
         "y": [
          199.29432015132977
         ]
        }
       ],
       "layout": {
        "height": 600,
        "showlegend": false,
        "template": {
         "data": {
          "bar": [
           {
            "error_x": {
             "color": "#2a3f5f"
            },
            "error_y": {
             "color": "#2a3f5f"
            },
            "marker": {
             "line": {
              "color": "white",
              "width": 0.5
             },
             "pattern": {
              "fillmode": "overlay",
              "size": 10,
              "solidity": 0.2
             }
            },
            "type": "bar"
           }
          ],
          "barpolar": [
           {
            "marker": {
             "line": {
              "color": "white",
              "width": 0.5
             },
             "pattern": {
              "fillmode": "overlay",
              "size": 10,
              "solidity": 0.2
             }
            },
            "type": "barpolar"
           }
          ],
          "carpet": [
           {
            "aaxis": {
             "endlinecolor": "#2a3f5f",
             "gridcolor": "#C8D4E3",
             "linecolor": "#C8D4E3",
             "minorgridcolor": "#C8D4E3",
             "startlinecolor": "#2a3f5f"
            },
            "baxis": {
             "endlinecolor": "#2a3f5f",
             "gridcolor": "#C8D4E3",
             "linecolor": "#C8D4E3",
             "minorgridcolor": "#C8D4E3",
             "startlinecolor": "#2a3f5f"
            },
            "type": "carpet"
           }
          ],
          "choropleth": [
           {
            "colorbar": {
             "outlinewidth": 0,
             "ticks": ""
            },
            "type": "choropleth"
           }
          ],
          "contour": [
           {
            "colorbar": {
             "outlinewidth": 0,
             "ticks": ""
            },
            "colorscale": [
             [
              0,
              "#0d0887"
             ],
             [
              0.1111111111111111,
              "#46039f"
             ],
             [
              0.2222222222222222,
              "#7201a8"
             ],
             [
              0.3333333333333333,
              "#9c179e"
             ],
             [
              0.4444444444444444,
              "#bd3786"
             ],
             [
              0.5555555555555556,
              "#d8576b"
             ],
             [
              0.6666666666666666,
              "#ed7953"
             ],
             [
              0.7777777777777778,
              "#fb9f3a"
             ],
             [
              0.8888888888888888,
              "#fdca26"
             ],
             [
              1,
              "#f0f921"
             ]
            ],
            "type": "contour"
           }
          ],
          "contourcarpet": [
           {
            "colorbar": {
             "outlinewidth": 0,
             "ticks": ""
            },
            "type": "contourcarpet"
           }
          ],
          "heatmap": [
           {
            "colorbar": {
             "outlinewidth": 0,
             "ticks": ""
            },
            "colorscale": [
             [
              0,
              "#0d0887"
             ],
             [
              0.1111111111111111,
              "#46039f"
             ],
             [
              0.2222222222222222,
              "#7201a8"
             ],
             [
              0.3333333333333333,
              "#9c179e"
             ],
             [
              0.4444444444444444,
              "#bd3786"
             ],
             [
              0.5555555555555556,
              "#d8576b"
             ],
             [
              0.6666666666666666,
              "#ed7953"
             ],
             [
              0.7777777777777778,
              "#fb9f3a"
             ],
             [
              0.8888888888888888,
              "#fdca26"
             ],
             [
              1,
              "#f0f921"
             ]
            ],
            "type": "heatmap"
           }
          ],
          "heatmapgl": [
           {
            "colorbar": {
             "outlinewidth": 0,
             "ticks": ""
            },
            "colorscale": [
             [
              0,
              "#0d0887"
             ],
             [
              0.1111111111111111,
              "#46039f"
             ],
             [
              0.2222222222222222,
              "#7201a8"
             ],
             [
              0.3333333333333333,
              "#9c179e"
             ],
             [
              0.4444444444444444,
              "#bd3786"
             ],
             [
              0.5555555555555556,
              "#d8576b"
             ],
             [
              0.6666666666666666,
              "#ed7953"
             ],
             [
              0.7777777777777778,
              "#fb9f3a"
             ],
             [
              0.8888888888888888,
              "#fdca26"
             ],
             [
              1,
              "#f0f921"
             ]
            ],
            "type": "heatmapgl"
           }
          ],
          "histogram": [
           {
            "marker": {
             "pattern": {
              "fillmode": "overlay",
              "size": 10,
              "solidity": 0.2
             }
            },
            "type": "histogram"
           }
          ],
          "histogram2d": [
           {
            "colorbar": {
             "outlinewidth": 0,
             "ticks": ""
            },
            "colorscale": [
             [
              0,
              "#0d0887"
             ],
             [
              0.1111111111111111,
              "#46039f"
             ],
             [
              0.2222222222222222,
              "#7201a8"
             ],
             [
              0.3333333333333333,
              "#9c179e"
             ],
             [
              0.4444444444444444,
              "#bd3786"
             ],
             [
              0.5555555555555556,
              "#d8576b"
             ],
             [
              0.6666666666666666,
              "#ed7953"
             ],
             [
              0.7777777777777778,
              "#fb9f3a"
             ],
             [
              0.8888888888888888,
              "#fdca26"
             ],
             [
              1,
              "#f0f921"
             ]
            ],
            "type": "histogram2d"
           }
          ],
          "histogram2dcontour": [
           {
            "colorbar": {
             "outlinewidth": 0,
             "ticks": ""
            },
            "colorscale": [
             [
              0,
              "#0d0887"
             ],
             [
              0.1111111111111111,
              "#46039f"
             ],
             [
              0.2222222222222222,
              "#7201a8"
             ],
             [
              0.3333333333333333,
              "#9c179e"
             ],
             [
              0.4444444444444444,
              "#bd3786"
             ],
             [
              0.5555555555555556,
              "#d8576b"
             ],
             [
              0.6666666666666666,
              "#ed7953"
             ],
             [
              0.7777777777777778,
              "#fb9f3a"
             ],
             [
              0.8888888888888888,
              "#fdca26"
             ],
             [
              1,
              "#f0f921"
             ]
            ],
            "type": "histogram2dcontour"
           }
          ],
          "mesh3d": [
           {
            "colorbar": {
             "outlinewidth": 0,
             "ticks": ""
            },
            "type": "mesh3d"
           }
          ],
          "parcoords": [
           {
            "line": {
             "colorbar": {
              "outlinewidth": 0,
              "ticks": ""
             }
            },
            "type": "parcoords"
           }
          ],
          "pie": [
           {
            "automargin": true,
            "type": "pie"
           }
          ],
          "scatter": [
           {
            "fillpattern": {
             "fillmode": "overlay",
             "size": 10,
             "solidity": 0.2
            },
            "type": "scatter"
           }
          ],
          "scatter3d": [
           {
            "line": {
             "colorbar": {
              "outlinewidth": 0,
              "ticks": ""
             }
            },
            "marker": {
             "colorbar": {
              "outlinewidth": 0,
              "ticks": ""
             }
            },
            "type": "scatter3d"
           }
          ],
          "scattercarpet": [
           {
            "marker": {
             "colorbar": {
              "outlinewidth": 0,
              "ticks": ""
             }
            },
            "type": "scattercarpet"
           }
          ],
          "scattergeo": [
           {
            "marker": {
             "colorbar": {
              "outlinewidth": 0,
              "ticks": ""
             }
            },
            "type": "scattergeo"
           }
          ],
          "scattergl": [
           {
            "marker": {
             "colorbar": {
              "outlinewidth": 0,
              "ticks": ""
             }
            },
            "type": "scattergl"
           }
          ],
          "scattermapbox": [
           {
            "marker": {
             "colorbar": {
              "outlinewidth": 0,
              "ticks": ""
             }
            },
            "type": "scattermapbox"
           }
          ],
          "scatterpolar": [
           {
            "marker": {
             "colorbar": {
              "outlinewidth": 0,
              "ticks": ""
             }
            },
            "type": "scatterpolar"
           }
          ],
          "scatterpolargl": [
           {
            "marker": {
             "colorbar": {
              "outlinewidth": 0,
              "ticks": ""
             }
            },
            "type": "scatterpolargl"
           }
          ],
          "scatterternary": [
           {
            "marker": {
             "colorbar": {
              "outlinewidth": 0,
              "ticks": ""
             }
            },
            "type": "scatterternary"
           }
          ],
          "surface": [
           {
            "colorbar": {
             "outlinewidth": 0,
             "ticks": ""
            },
            "colorscale": [
             [
              0,
              "#0d0887"
             ],
             [
              0.1111111111111111,
              "#46039f"
             ],
             [
              0.2222222222222222,
              "#7201a8"
             ],
             [
              0.3333333333333333,
              "#9c179e"
             ],
             [
              0.4444444444444444,
              "#bd3786"
             ],
             [
              0.5555555555555556,
              "#d8576b"
             ],
             [
              0.6666666666666666,
              "#ed7953"
             ],
             [
              0.7777777777777778,
              "#fb9f3a"
             ],
             [
              0.8888888888888888,
              "#fdca26"
             ],
             [
              1,
              "#f0f921"
             ]
            ],
            "type": "surface"
           }
          ],
          "table": [
           {
            "cells": {
             "fill": {
              "color": "#EBF0F8"
             },
             "line": {
              "color": "white"
             }
            },
            "header": {
             "fill": {
              "color": "#C8D4E3"
             },
             "line": {
              "color": "white"
             }
            },
            "type": "table"
           }
          ]
         },
         "layout": {
          "annotationdefaults": {
           "arrowcolor": "#2a3f5f",
           "arrowhead": 0,
           "arrowwidth": 1
          },
          "autotypenumbers": "strict",
          "coloraxis": {
           "colorbar": {
            "outlinewidth": 0,
            "ticks": ""
           }
          },
          "colorscale": {
           "diverging": [
            [
             0,
             "#8e0152"
            ],
            [
             0.1,
             "#c51b7d"
            ],
            [
             0.2,
             "#de77ae"
            ],
            [
             0.3,
             "#f1b6da"
            ],
            [
             0.4,
             "#fde0ef"
            ],
            [
             0.5,
             "#f7f7f7"
            ],
            [
             0.6,
             "#e6f5d0"
            ],
            [
             0.7,
             "#b8e186"
            ],
            [
             0.8,
             "#7fbc41"
            ],
            [
             0.9,
             "#4d9221"
            ],
            [
             1,
             "#276419"
            ]
           ],
           "sequential": [
            [
             0,
             "#0d0887"
            ],
            [
             0.1111111111111111,
             "#46039f"
            ],
            [
             0.2222222222222222,
             "#7201a8"
            ],
            [
             0.3333333333333333,
             "#9c179e"
            ],
            [
             0.4444444444444444,
             "#bd3786"
            ],
            [
             0.5555555555555556,
             "#d8576b"
            ],
            [
             0.6666666666666666,
             "#ed7953"
            ],
            [
             0.7777777777777778,
             "#fb9f3a"
            ],
            [
             0.8888888888888888,
             "#fdca26"
            ],
            [
             1,
             "#f0f921"
            ]
           ],
           "sequentialminus": [
            [
             0,
             "#0d0887"
            ],
            [
             0.1111111111111111,
             "#46039f"
            ],
            [
             0.2222222222222222,
             "#7201a8"
            ],
            [
             0.3333333333333333,
             "#9c179e"
            ],
            [
             0.4444444444444444,
             "#bd3786"
            ],
            [
             0.5555555555555556,
             "#d8576b"
            ],
            [
             0.6666666666666666,
             "#ed7953"
            ],
            [
             0.7777777777777778,
             "#fb9f3a"
            ],
            [
             0.8888888888888888,
             "#fdca26"
            ],
            [
             1,
             "#f0f921"
            ]
           ]
          },
          "colorway": [
           "#636efa",
           "#EF553B",
           "#00cc96",
           "#ab63fa",
           "#FFA15A",
           "#19d3f3",
           "#FF6692",
           "#B6E880",
           "#FF97FF",
           "#FECB52"
          ],
          "font": {
           "color": "#2a3f5f"
          },
          "geo": {
           "bgcolor": "white",
           "lakecolor": "white",
           "landcolor": "white",
           "showlakes": true,
           "showland": true,
           "subunitcolor": "#C8D4E3"
          },
          "hoverlabel": {
           "align": "left"
          },
          "hovermode": "closest",
          "mapbox": {
           "style": "light"
          },
          "paper_bgcolor": "white",
          "plot_bgcolor": "white",
          "polar": {
           "angularaxis": {
            "gridcolor": "#EBF0F8",
            "linecolor": "#EBF0F8",
            "ticks": ""
           },
           "bgcolor": "white",
           "radialaxis": {
            "gridcolor": "#EBF0F8",
            "linecolor": "#EBF0F8",
            "ticks": ""
           }
          },
          "scene": {
           "xaxis": {
            "backgroundcolor": "white",
            "gridcolor": "#DFE8F3",
            "gridwidth": 2,
            "linecolor": "#EBF0F8",
            "showbackground": true,
            "ticks": "",
            "zerolinecolor": "#EBF0F8"
           },
           "yaxis": {
            "backgroundcolor": "white",
            "gridcolor": "#DFE8F3",
            "gridwidth": 2,
            "linecolor": "#EBF0F8",
            "showbackground": true,
            "ticks": "",
            "zerolinecolor": "#EBF0F8"
           },
           "zaxis": {
            "backgroundcolor": "white",
            "gridcolor": "#DFE8F3",
            "gridwidth": 2,
            "linecolor": "#EBF0F8",
            "showbackground": true,
            "ticks": "",
            "zerolinecolor": "#EBF0F8"
           }
          },
          "shapedefaults": {
           "line": {
            "color": "#2a3f5f"
           }
          },
          "ternary": {
           "aaxis": {
            "gridcolor": "#DFE8F3",
            "linecolor": "#A2B1C6",
            "ticks": ""
           },
           "baxis": {
            "gridcolor": "#DFE8F3",
            "linecolor": "#A2B1C6",
            "ticks": ""
           },
           "bgcolor": "white",
           "caxis": {
            "gridcolor": "#DFE8F3",
            "linecolor": "#A2B1C6",
            "ticks": ""
           }
          },
          "title": {
           "x": 0.05
          },
          "xaxis": {
           "automargin": true,
           "gridcolor": "#EBF0F8",
           "linecolor": "#EBF0F8",
           "ticks": "",
           "title": {
            "standoff": 15
           },
           "zerolinecolor": "#EBF0F8",
           "zerolinewidth": 2
          },
          "yaxis": {
           "automargin": true,
           "gridcolor": "#EBF0F8",
           "linecolor": "#EBF0F8",
           "ticks": "",
           "title": {
            "standoff": 15
           },
           "zerolinecolor": "#EBF0F8",
           "zerolinewidth": 2
          }
         }
        },
        "title": {
         "text": "X by category"
        },
        "width": 850,
        "xaxis": {
         "tickangle": 90,
         "title": {
          "text": "Category"
         }
        },
        "yaxis": {
         "title": {
          "text": "X"
         }
        }
       }
      }
     },
     "metadata": {},
     "output_type": "display_data"
    }
   ],
   "source": [
    "# Basic vertical bar chart\n",
    "\n",
    "d_plot = d_plot\n",
    "val_name = \"x\"\n",
    "cat_name = \"category\"\n",
    "cat_values = (\n",
    "    d_plot.groupby([cat_name])[val_name]\n",
    "    .sum()\n",
    "    .reset_index()\n",
    "    .sort_values(val_name, ascending=False)[cat_name]\n",
    "    .head(20)\n",
    ")\n",
    "total_sum = d_plot[val_name].sum()\n",
    "e = (\n",
    "    d_plot[d_plot[cat_name].isin(cat_values)]\n",
    "    .groupby(cat_name)[[val_name]]\n",
    "    .sum()\n",
    "    .reset_index()\n",
    "    .sort_values(val_name, ascending=False)\n",
    ")\n",
    "if len(e) > 30:\n",
    "    raise ValueError(\"Too many values to plot\")\n",
    "\n",
    "fig = go.Figure()\n",
    "for i, category in enumerate(e[cat_name]):\n",
    "    fig.add_trace(\n",
    "        go.Bar(\n",
    "            x=e[e[cat_name] == category][cat_name],\n",
    "            y=e[e[cat_name] == category][val_name],\n",
    "            # text=e[e[cat_name] == category][val_name].round(1),\n",
    "            text=e[e[cat_name] == category][val_name]\n",
    "            .round(1)\n",
    "            .apply(lambda x: f\"{x} ({round((100 * x/total_sum), 1)}%)\"),\n",
    "            name=\"\",\n",
    "            showlegend=True,\n",
    "            marker=dict(color=\"cornflowerblue\"),\n",
    "        )\n",
    "    )\n",
    "fig.update_traces(hovertemplate=\"%{y}\")\n",
    "fig.update_layout(\n",
    "    template=\"plotly_white\",\n",
    "    width=50 + len(fig.data) * 40,\n",
    "    height=600,\n",
    "    title=f\"{val_name.capitalize()} by {cat_name}\",\n",
    "    showlegend=False,\n",
    ")\n",
    "fig.update_xaxes(title=cat_name.capitalize(), tickangle=90)\n",
    "fig.update_yaxes(title=val_name.capitalize(), range=None, dtick=None)\n",
    "fig.show()"
   ]
  },
  {
   "cell_type": "code",
   "execution_count": 4,
   "metadata": {},
   "outputs": [
    {
     "data": {
      "application/vnd.plotly.v1+json": {
       "config": {
        "plotlyServerURL": "https://plot.ly"
       },
       "data": [
        {
         "hovertemplate": "%{x}",
         "marker": {
          "color": "cornflowerblue"
         },
         "name": "",
         "orientation": "h",
         "showlegend": true,
         "text": [
          "199.3 (4.0%)"
         ],
         "type": "bar",
         "x": [
          199.29432015132977
         ],
         "y": [
          "category_17"
         ]
        },
        {
         "hovertemplate": "%{x}",
         "marker": {
          "color": "cornflowerblue"
         },
         "name": "",
         "orientation": "h",
         "showlegend": true,
         "text": [
          "212.3 (4.3%)"
         ],
         "type": "bar",
         "x": [
          212.27792245184403
         ],
         "y": [
          "category_05"
         ]
        },
        {
         "hovertemplate": "%{x}",
         "marker": {
          "color": "cornflowerblue"
         },
         "name": "",
         "orientation": "h",
         "showlegend": true,
         "text": [
          "216.1 (4.3%)"
         ],
         "type": "bar",
         "x": [
          216.14539983505594
         ],
         "y": [
          "category_09"
         ]
        },
        {
         "hovertemplate": "%{x}",
         "marker": {
          "color": "cornflowerblue"
         },
         "name": "",
         "orientation": "h",
         "showlegend": true,
         "text": [
          "221.2 (4.4%)"
         ],
         "type": "bar",
         "x": [
          221.19477399478117
         ],
         "y": [
          "category_07"
         ]
        },
        {
         "hovertemplate": "%{x}",
         "marker": {
          "color": "cornflowerblue"
         },
         "name": "",
         "orientation": "h",
         "showlegend": true,
         "text": [
          "225.0 (4.5%)"
         ],
         "type": "bar",
         "x": [
          225.03636184427285
         ],
         "y": [
          "category_06"
         ]
        },
        {
         "hovertemplate": "%{x}",
         "marker": {
          "color": "cornflowerblue"
         },
         "name": "",
         "orientation": "h",
         "showlegend": true,
         "text": [
          "227.0 (4.6%)"
         ],
         "type": "bar",
         "x": [
          226.99197947748405
         ],
         "y": [
          "category_16"
         ]
        },
        {
         "hovertemplate": "%{x}",
         "marker": {
          "color": "cornflowerblue"
         },
         "name": "",
         "orientation": "h",
         "showlegend": true,
         "text": [
          "240.8 (4.8%)"
         ],
         "type": "bar",
         "x": [
          240.83482550048709
         ],
         "y": [
          "category_04"
         ]
        },
        {
         "hovertemplate": "%{x}",
         "marker": {
          "color": "cornflowerblue"
         },
         "name": "",
         "orientation": "h",
         "showlegend": true,
         "text": [
          "243.7 (4.9%)"
         ],
         "type": "bar",
         "x": [
          243.73584870970942
         ],
         "y": [
          "category_08"
         ]
        },
        {
         "hovertemplate": "%{x}",
         "marker": {
          "color": "cornflowerblue"
         },
         "name": "",
         "orientation": "h",
         "showlegend": true,
         "text": [
          "246.8 (5.0%)"
         ],
         "type": "bar",
         "x": [
          246.82276629428952
         ],
         "y": [
          "category_03"
         ]
        },
        {
         "hovertemplate": "%{x}",
         "marker": {
          "color": "cornflowerblue"
         },
         "name": "",
         "orientation": "h",
         "showlegend": true,
         "text": [
          "248.0 (5.0%)"
         ],
         "type": "bar",
         "x": [
          248.02162672091248
         ],
         "y": [
          "category_11"
         ]
        },
        {
         "hovertemplate": "%{x}",
         "marker": {
          "color": "cornflowerblue"
         },
         "name": "",
         "orientation": "h",
         "showlegend": true,
         "text": [
          "253.6 (5.1%)"
         ],
         "type": "bar",
         "x": [
          253.6474969372926
         ],
         "y": [
          "category_02"
         ]
        },
        {
         "hovertemplate": "%{x}",
         "marker": {
          "color": "cornflowerblue"
         },
         "name": "",
         "orientation": "h",
         "showlegend": true,
         "text": [
          "258.2 (5.2%)"
         ],
         "type": "bar",
         "x": [
          258.16590412620104
         ],
         "y": [
          "category_01"
         ]
        },
        {
         "hovertemplate": "%{x}",
         "marker": {
          "color": "cornflowerblue"
         },
         "name": "",
         "orientation": "h",
         "showlegend": true,
         "text": [
          "261.4 (5.3%)"
         ],
         "type": "bar",
         "x": [
          261.43365674023573
         ],
         "y": [
          "category_10"
         ]
        },
        {
         "hovertemplate": "%{x}",
         "marker": {
          "color": "cornflowerblue"
         },
         "name": "",
         "orientation": "h",
         "showlegend": true,
         "text": [
          "263.7 (5.3%)"
         ],
         "type": "bar",
         "x": [
          263.6588856887406
         ],
         "y": [
          "category_14"
         ]
        },
        {
         "hovertemplate": "%{x}",
         "marker": {
          "color": "cornflowerblue"
         },
         "name": "",
         "orientation": "h",
         "showlegend": true,
         "text": [
          "266.5 (5.4%)"
         ],
         "type": "bar",
         "x": [
          266.4994045803582
         ],
         "y": [
          "category_13"
         ]
        },
        {
         "hovertemplate": "%{x}",
         "marker": {
          "color": "cornflowerblue"
         },
         "name": "",
         "orientation": "h",
         "showlegend": true,
         "text": [
          "268.0 (5.4%)"
         ],
         "type": "bar",
         "x": [
          267.9669434349921
         ],
         "y": [
          "category_00"
         ]
        },
        {
         "hovertemplate": "%{x}",
         "marker": {
          "color": "cornflowerblue"
         },
         "name": "",
         "orientation": "h",
         "showlegend": true,
         "text": [
          "269.1 (5.4%)"
         ],
         "type": "bar",
         "x": [
          269.07237508700337
         ],
         "y": [
          "category_12"
         ]
        },
        {
         "hovertemplate": "%{x}",
         "marker": {
          "color": "cornflowerblue"
         },
         "name": "",
         "orientation": "h",
         "showlegend": true,
         "text": [
          "281.1 (5.7%)"
         ],
         "type": "bar",
         "x": [
          281.14863025949
         ],
         "y": [
          "category_18"
         ]
        },
        {
         "hovertemplate": "%{x}",
         "marker": {
          "color": "cornflowerblue"
         },
         "name": "",
         "orientation": "h",
         "showlegend": true,
         "text": [
          "284.9 (5.7%)"
         ],
         "type": "bar",
         "x": [
          284.9217710626782
         ],
         "y": [
          "category_19"
         ]
        },
        {
         "hovertemplate": "%{x}",
         "marker": {
          "color": "cornflowerblue"
         },
         "name": "",
         "orientation": "h",
         "showlegend": true,
         "text": [
          "287.6 (5.8%)"
         ],
         "type": "bar",
         "x": [
          287.6050818181708
         ],
         "y": [
          "category_15"
         ]
        }
       ],
       "layout": {
        "height": 850,
        "showlegend": false,
        "template": {
         "data": {
          "bar": [
           {
            "error_x": {
             "color": "#2a3f5f"
            },
            "error_y": {
             "color": "#2a3f5f"
            },
            "marker": {
             "line": {
              "color": "white",
              "width": 0.5
             },
             "pattern": {
              "fillmode": "overlay",
              "size": 10,
              "solidity": 0.2
             }
            },
            "type": "bar"
           }
          ],
          "barpolar": [
           {
            "marker": {
             "line": {
              "color": "white",
              "width": 0.5
             },
             "pattern": {
              "fillmode": "overlay",
              "size": 10,
              "solidity": 0.2
             }
            },
            "type": "barpolar"
           }
          ],
          "carpet": [
           {
            "aaxis": {
             "endlinecolor": "#2a3f5f",
             "gridcolor": "#C8D4E3",
             "linecolor": "#C8D4E3",
             "minorgridcolor": "#C8D4E3",
             "startlinecolor": "#2a3f5f"
            },
            "baxis": {
             "endlinecolor": "#2a3f5f",
             "gridcolor": "#C8D4E3",
             "linecolor": "#C8D4E3",
             "minorgridcolor": "#C8D4E3",
             "startlinecolor": "#2a3f5f"
            },
            "type": "carpet"
           }
          ],
          "choropleth": [
           {
            "colorbar": {
             "outlinewidth": 0,
             "ticks": ""
            },
            "type": "choropleth"
           }
          ],
          "contour": [
           {
            "colorbar": {
             "outlinewidth": 0,
             "ticks": ""
            },
            "colorscale": [
             [
              0,
              "#0d0887"
             ],
             [
              0.1111111111111111,
              "#46039f"
             ],
             [
              0.2222222222222222,
              "#7201a8"
             ],
             [
              0.3333333333333333,
              "#9c179e"
             ],
             [
              0.4444444444444444,
              "#bd3786"
             ],
             [
              0.5555555555555556,
              "#d8576b"
             ],
             [
              0.6666666666666666,
              "#ed7953"
             ],
             [
              0.7777777777777778,
              "#fb9f3a"
             ],
             [
              0.8888888888888888,
              "#fdca26"
             ],
             [
              1,
              "#f0f921"
             ]
            ],
            "type": "contour"
           }
          ],
          "contourcarpet": [
           {
            "colorbar": {
             "outlinewidth": 0,
             "ticks": ""
            },
            "type": "contourcarpet"
           }
          ],
          "heatmap": [
           {
            "colorbar": {
             "outlinewidth": 0,
             "ticks": ""
            },
            "colorscale": [
             [
              0,
              "#0d0887"
             ],
             [
              0.1111111111111111,
              "#46039f"
             ],
             [
              0.2222222222222222,
              "#7201a8"
             ],
             [
              0.3333333333333333,
              "#9c179e"
             ],
             [
              0.4444444444444444,
              "#bd3786"
             ],
             [
              0.5555555555555556,
              "#d8576b"
             ],
             [
              0.6666666666666666,
              "#ed7953"
             ],
             [
              0.7777777777777778,
              "#fb9f3a"
             ],
             [
              0.8888888888888888,
              "#fdca26"
             ],
             [
              1,
              "#f0f921"
             ]
            ],
            "type": "heatmap"
           }
          ],
          "heatmapgl": [
           {
            "colorbar": {
             "outlinewidth": 0,
             "ticks": ""
            },
            "colorscale": [
             [
              0,
              "#0d0887"
             ],
             [
              0.1111111111111111,
              "#46039f"
             ],
             [
              0.2222222222222222,
              "#7201a8"
             ],
             [
              0.3333333333333333,
              "#9c179e"
             ],
             [
              0.4444444444444444,
              "#bd3786"
             ],
             [
              0.5555555555555556,
              "#d8576b"
             ],
             [
              0.6666666666666666,
              "#ed7953"
             ],
             [
              0.7777777777777778,
              "#fb9f3a"
             ],
             [
              0.8888888888888888,
              "#fdca26"
             ],
             [
              1,
              "#f0f921"
             ]
            ],
            "type": "heatmapgl"
           }
          ],
          "histogram": [
           {
            "marker": {
             "pattern": {
              "fillmode": "overlay",
              "size": 10,
              "solidity": 0.2
             }
            },
            "type": "histogram"
           }
          ],
          "histogram2d": [
           {
            "colorbar": {
             "outlinewidth": 0,
             "ticks": ""
            },
            "colorscale": [
             [
              0,
              "#0d0887"
             ],
             [
              0.1111111111111111,
              "#46039f"
             ],
             [
              0.2222222222222222,
              "#7201a8"
             ],
             [
              0.3333333333333333,
              "#9c179e"
             ],
             [
              0.4444444444444444,
              "#bd3786"
             ],
             [
              0.5555555555555556,
              "#d8576b"
             ],
             [
              0.6666666666666666,
              "#ed7953"
             ],
             [
              0.7777777777777778,
              "#fb9f3a"
             ],
             [
              0.8888888888888888,
              "#fdca26"
             ],
             [
              1,
              "#f0f921"
             ]
            ],
            "type": "histogram2d"
           }
          ],
          "histogram2dcontour": [
           {
            "colorbar": {
             "outlinewidth": 0,
             "ticks": ""
            },
            "colorscale": [
             [
              0,
              "#0d0887"
             ],
             [
              0.1111111111111111,
              "#46039f"
             ],
             [
              0.2222222222222222,
              "#7201a8"
             ],
             [
              0.3333333333333333,
              "#9c179e"
             ],
             [
              0.4444444444444444,
              "#bd3786"
             ],
             [
              0.5555555555555556,
              "#d8576b"
             ],
             [
              0.6666666666666666,
              "#ed7953"
             ],
             [
              0.7777777777777778,
              "#fb9f3a"
             ],
             [
              0.8888888888888888,
              "#fdca26"
             ],
             [
              1,
              "#f0f921"
             ]
            ],
            "type": "histogram2dcontour"
           }
          ],
          "mesh3d": [
           {
            "colorbar": {
             "outlinewidth": 0,
             "ticks": ""
            },
            "type": "mesh3d"
           }
          ],
          "parcoords": [
           {
            "line": {
             "colorbar": {
              "outlinewidth": 0,
              "ticks": ""
             }
            },
            "type": "parcoords"
           }
          ],
          "pie": [
           {
            "automargin": true,
            "type": "pie"
           }
          ],
          "scatter": [
           {
            "fillpattern": {
             "fillmode": "overlay",
             "size": 10,
             "solidity": 0.2
            },
            "type": "scatter"
           }
          ],
          "scatter3d": [
           {
            "line": {
             "colorbar": {
              "outlinewidth": 0,
              "ticks": ""
             }
            },
            "marker": {
             "colorbar": {
              "outlinewidth": 0,
              "ticks": ""
             }
            },
            "type": "scatter3d"
           }
          ],
          "scattercarpet": [
           {
            "marker": {
             "colorbar": {
              "outlinewidth": 0,
              "ticks": ""
             }
            },
            "type": "scattercarpet"
           }
          ],
          "scattergeo": [
           {
            "marker": {
             "colorbar": {
              "outlinewidth": 0,
              "ticks": ""
             }
            },
            "type": "scattergeo"
           }
          ],
          "scattergl": [
           {
            "marker": {
             "colorbar": {
              "outlinewidth": 0,
              "ticks": ""
             }
            },
            "type": "scattergl"
           }
          ],
          "scattermapbox": [
           {
            "marker": {
             "colorbar": {
              "outlinewidth": 0,
              "ticks": ""
             }
            },
            "type": "scattermapbox"
           }
          ],
          "scatterpolar": [
           {
            "marker": {
             "colorbar": {
              "outlinewidth": 0,
              "ticks": ""
             }
            },
            "type": "scatterpolar"
           }
          ],
          "scatterpolargl": [
           {
            "marker": {
             "colorbar": {
              "outlinewidth": 0,
              "ticks": ""
             }
            },
            "type": "scatterpolargl"
           }
          ],
          "scatterternary": [
           {
            "marker": {
             "colorbar": {
              "outlinewidth": 0,
              "ticks": ""
             }
            },
            "type": "scatterternary"
           }
          ],
          "surface": [
           {
            "colorbar": {
             "outlinewidth": 0,
             "ticks": ""
            },
            "colorscale": [
             [
              0,
              "#0d0887"
             ],
             [
              0.1111111111111111,
              "#46039f"
             ],
             [
              0.2222222222222222,
              "#7201a8"
             ],
             [
              0.3333333333333333,
              "#9c179e"
             ],
             [
              0.4444444444444444,
              "#bd3786"
             ],
             [
              0.5555555555555556,
              "#d8576b"
             ],
             [
              0.6666666666666666,
              "#ed7953"
             ],
             [
              0.7777777777777778,
              "#fb9f3a"
             ],
             [
              0.8888888888888888,
              "#fdca26"
             ],
             [
              1,
              "#f0f921"
             ]
            ],
            "type": "surface"
           }
          ],
          "table": [
           {
            "cells": {
             "fill": {
              "color": "#EBF0F8"
             },
             "line": {
              "color": "white"
             }
            },
            "header": {
             "fill": {
              "color": "#C8D4E3"
             },
             "line": {
              "color": "white"
             }
            },
            "type": "table"
           }
          ]
         },
         "layout": {
          "annotationdefaults": {
           "arrowcolor": "#2a3f5f",
           "arrowhead": 0,
           "arrowwidth": 1
          },
          "autotypenumbers": "strict",
          "coloraxis": {
           "colorbar": {
            "outlinewidth": 0,
            "ticks": ""
           }
          },
          "colorscale": {
           "diverging": [
            [
             0,
             "#8e0152"
            ],
            [
             0.1,
             "#c51b7d"
            ],
            [
             0.2,
             "#de77ae"
            ],
            [
             0.3,
             "#f1b6da"
            ],
            [
             0.4,
             "#fde0ef"
            ],
            [
             0.5,
             "#f7f7f7"
            ],
            [
             0.6,
             "#e6f5d0"
            ],
            [
             0.7,
             "#b8e186"
            ],
            [
             0.8,
             "#7fbc41"
            ],
            [
             0.9,
             "#4d9221"
            ],
            [
             1,
             "#276419"
            ]
           ],
           "sequential": [
            [
             0,
             "#0d0887"
            ],
            [
             0.1111111111111111,
             "#46039f"
            ],
            [
             0.2222222222222222,
             "#7201a8"
            ],
            [
             0.3333333333333333,
             "#9c179e"
            ],
            [
             0.4444444444444444,
             "#bd3786"
            ],
            [
             0.5555555555555556,
             "#d8576b"
            ],
            [
             0.6666666666666666,
             "#ed7953"
            ],
            [
             0.7777777777777778,
             "#fb9f3a"
            ],
            [
             0.8888888888888888,
             "#fdca26"
            ],
            [
             1,
             "#f0f921"
            ]
           ],
           "sequentialminus": [
            [
             0,
             "#0d0887"
            ],
            [
             0.1111111111111111,
             "#46039f"
            ],
            [
             0.2222222222222222,
             "#7201a8"
            ],
            [
             0.3333333333333333,
             "#9c179e"
            ],
            [
             0.4444444444444444,
             "#bd3786"
            ],
            [
             0.5555555555555556,
             "#d8576b"
            ],
            [
             0.6666666666666666,
             "#ed7953"
            ],
            [
             0.7777777777777778,
             "#fb9f3a"
            ],
            [
             0.8888888888888888,
             "#fdca26"
            ],
            [
             1,
             "#f0f921"
            ]
           ]
          },
          "colorway": [
           "#636efa",
           "#EF553B",
           "#00cc96",
           "#ab63fa",
           "#FFA15A",
           "#19d3f3",
           "#FF6692",
           "#B6E880",
           "#FF97FF",
           "#FECB52"
          ],
          "font": {
           "color": "#2a3f5f"
          },
          "geo": {
           "bgcolor": "white",
           "lakecolor": "white",
           "landcolor": "white",
           "showlakes": true,
           "showland": true,
           "subunitcolor": "#C8D4E3"
          },
          "hoverlabel": {
           "align": "left"
          },
          "hovermode": "closest",
          "mapbox": {
           "style": "light"
          },
          "paper_bgcolor": "white",
          "plot_bgcolor": "white",
          "polar": {
           "angularaxis": {
            "gridcolor": "#EBF0F8",
            "linecolor": "#EBF0F8",
            "ticks": ""
           },
           "bgcolor": "white",
           "radialaxis": {
            "gridcolor": "#EBF0F8",
            "linecolor": "#EBF0F8",
            "ticks": ""
           }
          },
          "scene": {
           "xaxis": {
            "backgroundcolor": "white",
            "gridcolor": "#DFE8F3",
            "gridwidth": 2,
            "linecolor": "#EBF0F8",
            "showbackground": true,
            "ticks": "",
            "zerolinecolor": "#EBF0F8"
           },
           "yaxis": {
            "backgroundcolor": "white",
            "gridcolor": "#DFE8F3",
            "gridwidth": 2,
            "linecolor": "#EBF0F8",
            "showbackground": true,
            "ticks": "",
            "zerolinecolor": "#EBF0F8"
           },
           "zaxis": {
            "backgroundcolor": "white",
            "gridcolor": "#DFE8F3",
            "gridwidth": 2,
            "linecolor": "#EBF0F8",
            "showbackground": true,
            "ticks": "",
            "zerolinecolor": "#EBF0F8"
           }
          },
          "shapedefaults": {
           "line": {
            "color": "#2a3f5f"
           }
          },
          "ternary": {
           "aaxis": {
            "gridcolor": "#DFE8F3",
            "linecolor": "#A2B1C6",
            "ticks": ""
           },
           "baxis": {
            "gridcolor": "#DFE8F3",
            "linecolor": "#A2B1C6",
            "ticks": ""
           },
           "bgcolor": "white",
           "caxis": {
            "gridcolor": "#DFE8F3",
            "linecolor": "#A2B1C6",
            "ticks": ""
           }
          },
          "title": {
           "x": 0.05
          },
          "xaxis": {
           "automargin": true,
           "gridcolor": "#EBF0F8",
           "linecolor": "#EBF0F8",
           "ticks": "",
           "title": {
            "standoff": 15
           },
           "zerolinecolor": "#EBF0F8",
           "zerolinewidth": 2
          },
          "yaxis": {
           "automargin": true,
           "gridcolor": "#EBF0F8",
           "linecolor": "#EBF0F8",
           "ticks": "",
           "title": {
            "standoff": 15
           },
           "zerolinecolor": "#EBF0F8",
           "zerolinewidth": 2
          }
         }
        },
        "title": {
         "text": "X by category"
        },
        "width": 1000,
        "xaxis": {
         "title": {
          "text": "X"
         }
        },
        "yaxis": {
         "title": {
          "text": "Category"
         }
        }
       }
      }
     },
     "metadata": {},
     "output_type": "display_data"
    }
   ],
   "source": [
    "# Basic horizontal bar chart\n",
    "\n",
    "d_plot = d_plot\n",
    "val_name = \"x\"\n",
    "cat_name = \"category\"\n",
    "cat_values = (\n",
    "    d_plot.groupby([cat_name])[val_name]\n",
    "    .sum()\n",
    "    .reset_index()\n",
    "    .sort_values(val_name, ascending=False)[cat_name]\n",
    "    .head(20)\n",
    ")\n",
    "total_sum = d_plot[val_name].sum()\n",
    "e = (\n",
    "    d_plot[d_plot[cat_name].isin(cat_values)]\n",
    "    .groupby(cat_name)[[val_name]]\n",
    "    .sum()\n",
    "    .reset_index()\n",
    "    .sort_values(val_name, ascending=True)\n",
    ")\n",
    "if len(e) > 30:\n",
    "    raise ValueError(\"Too many values to plot\")\n",
    "\n",
    "fig = go.Figure()\n",
    "for i, category in enumerate(e[cat_name]):\n",
    "    fig.add_trace(\n",
    "        go.Bar(\n",
    "            x=e[e[cat_name] == category][val_name],\n",
    "            y=e[e[cat_name] == category][cat_name],\n",
    "            # text=e[e[cat_name] == category][val_name].round(1),\n",
    "            text=e[e[cat_name] == category][val_name]\n",
    "            .round(1)\n",
    "            .apply(lambda x: f\"{x} ({round((100 * x/total_sum), 1)}%)\"),\n",
    "            orientation=\"h\",\n",
    "            name=\"\",\n",
    "            showlegend=True,\n",
    "            marker=dict(color=\"cornflowerblue\"),\n",
    "        )\n",
    "    )\n",
    "fig.update_traces(hovertemplate=\"%{x}\")\n",
    "fig.update_layout(\n",
    "    template=\"plotly_white\",\n",
    "    width=1000,\n",
    "    height=50 + len(fig.data) * 40,\n",
    "    title=f\"{val_name.capitalize()} by {cat_name}\",\n",
    "    showlegend=False,\n",
    ")\n",
    "fig.update_xaxes(title=val_name.capitalize(), range=None, dtick=None)\n",
    "fig.update_yaxes(title=cat_name.capitalize())\n",
    "fig.show()"
   ]
  },
  {
   "cell_type": "code",
   "execution_count": 5,
   "metadata": {},
   "outputs": [
    {
     "data": {
      "application/vnd.plotly.v1+json": {
       "config": {
        "plotlyServerURL": "https://plot.ly"
       },
       "data": [
        {
         "hovertemplate": "%{y}",
         "marker": {
          "color": "cornflowerblue"
         },
         "name": "hello",
         "showlegend": true,
         "text": [
          103.2,
          106.7,
          121.9,
          126.1,
          127,
          128.2,
          131.9,
          143,
          155.4,
          161.9
         ],
         "type": "bar",
         "x": [
          "category_14",
          "category_01",
          "category_13",
          "category_00",
          "category_12",
          "category_02",
          "category_10",
          "category_15",
          "category_19",
          "category_18"
         ],
         "y": [
          103.2172028418059,
          106.74768060374994,
          121.87539562191706,
          126.14988190202453,
          126.96758881999115,
          128.2329973783267,
          131.91509714864355,
          143.04992837168174,
          155.4418277705562,
          161.85238576263242
         ]
        },
        {
         "hovertemplate": "%{y}",
         "marker": {
          "color": "coral"
         },
         "name": "world",
         "showlegend": true,
         "text": [
          119.3,
          125.4,
          129.5,
          129.5,
          141.8,
          142.1,
          144.6,
          144.6,
          151.4,
          160.4
         ],
         "type": "bar",
         "x": [
          "category_18",
          "category_02",
          "category_19",
          "category_10",
          "category_00",
          "category_12",
          "category_15",
          "category_13",
          "category_01",
          "category_14"
         ],
         "y": [
          119.29624449685758,
          125.4144995589659,
          129.47994329212202,
          129.51855959159215,
          141.8170615329676,
          142.10478626701223,
          144.55515344648907,
          144.62400895844112,
          151.41822352245111,
          160.4416828469347
         ]
        }
       ],
       "layout": {
        "barmode": "group",
        "height": 600,
        "legend": {
         "title": {
          "text": "Subcategory"
         }
        },
        "showlegend": true,
        "template": {
         "data": {
          "bar": [
           {
            "error_x": {
             "color": "#2a3f5f"
            },
            "error_y": {
             "color": "#2a3f5f"
            },
            "marker": {
             "line": {
              "color": "white",
              "width": 0.5
             },
             "pattern": {
              "fillmode": "overlay",
              "size": 10,
              "solidity": 0.2
             }
            },
            "type": "bar"
           }
          ],
          "barpolar": [
           {
            "marker": {
             "line": {
              "color": "white",
              "width": 0.5
             },
             "pattern": {
              "fillmode": "overlay",
              "size": 10,
              "solidity": 0.2
             }
            },
            "type": "barpolar"
           }
          ],
          "carpet": [
           {
            "aaxis": {
             "endlinecolor": "#2a3f5f",
             "gridcolor": "#C8D4E3",
             "linecolor": "#C8D4E3",
             "minorgridcolor": "#C8D4E3",
             "startlinecolor": "#2a3f5f"
            },
            "baxis": {
             "endlinecolor": "#2a3f5f",
             "gridcolor": "#C8D4E3",
             "linecolor": "#C8D4E3",
             "minorgridcolor": "#C8D4E3",
             "startlinecolor": "#2a3f5f"
            },
            "type": "carpet"
           }
          ],
          "choropleth": [
           {
            "colorbar": {
             "outlinewidth": 0,
             "ticks": ""
            },
            "type": "choropleth"
           }
          ],
          "contour": [
           {
            "colorbar": {
             "outlinewidth": 0,
             "ticks": ""
            },
            "colorscale": [
             [
              0,
              "#0d0887"
             ],
             [
              0.1111111111111111,
              "#46039f"
             ],
             [
              0.2222222222222222,
              "#7201a8"
             ],
             [
              0.3333333333333333,
              "#9c179e"
             ],
             [
              0.4444444444444444,
              "#bd3786"
             ],
             [
              0.5555555555555556,
              "#d8576b"
             ],
             [
              0.6666666666666666,
              "#ed7953"
             ],
             [
              0.7777777777777778,
              "#fb9f3a"
             ],
             [
              0.8888888888888888,
              "#fdca26"
             ],
             [
              1,
              "#f0f921"
             ]
            ],
            "type": "contour"
           }
          ],
          "contourcarpet": [
           {
            "colorbar": {
             "outlinewidth": 0,
             "ticks": ""
            },
            "type": "contourcarpet"
           }
          ],
          "heatmap": [
           {
            "colorbar": {
             "outlinewidth": 0,
             "ticks": ""
            },
            "colorscale": [
             [
              0,
              "#0d0887"
             ],
             [
              0.1111111111111111,
              "#46039f"
             ],
             [
              0.2222222222222222,
              "#7201a8"
             ],
             [
              0.3333333333333333,
              "#9c179e"
             ],
             [
              0.4444444444444444,
              "#bd3786"
             ],
             [
              0.5555555555555556,
              "#d8576b"
             ],
             [
              0.6666666666666666,
              "#ed7953"
             ],
             [
              0.7777777777777778,
              "#fb9f3a"
             ],
             [
              0.8888888888888888,
              "#fdca26"
             ],
             [
              1,
              "#f0f921"
             ]
            ],
            "type": "heatmap"
           }
          ],
          "heatmapgl": [
           {
            "colorbar": {
             "outlinewidth": 0,
             "ticks": ""
            },
            "colorscale": [
             [
              0,
              "#0d0887"
             ],
             [
              0.1111111111111111,
              "#46039f"
             ],
             [
              0.2222222222222222,
              "#7201a8"
             ],
             [
              0.3333333333333333,
              "#9c179e"
             ],
             [
              0.4444444444444444,
              "#bd3786"
             ],
             [
              0.5555555555555556,
              "#d8576b"
             ],
             [
              0.6666666666666666,
              "#ed7953"
             ],
             [
              0.7777777777777778,
              "#fb9f3a"
             ],
             [
              0.8888888888888888,
              "#fdca26"
             ],
             [
              1,
              "#f0f921"
             ]
            ],
            "type": "heatmapgl"
           }
          ],
          "histogram": [
           {
            "marker": {
             "pattern": {
              "fillmode": "overlay",
              "size": 10,
              "solidity": 0.2
             }
            },
            "type": "histogram"
           }
          ],
          "histogram2d": [
           {
            "colorbar": {
             "outlinewidth": 0,
             "ticks": ""
            },
            "colorscale": [
             [
              0,
              "#0d0887"
             ],
             [
              0.1111111111111111,
              "#46039f"
             ],
             [
              0.2222222222222222,
              "#7201a8"
             ],
             [
              0.3333333333333333,
              "#9c179e"
             ],
             [
              0.4444444444444444,
              "#bd3786"
             ],
             [
              0.5555555555555556,
              "#d8576b"
             ],
             [
              0.6666666666666666,
              "#ed7953"
             ],
             [
              0.7777777777777778,
              "#fb9f3a"
             ],
             [
              0.8888888888888888,
              "#fdca26"
             ],
             [
              1,
              "#f0f921"
             ]
            ],
            "type": "histogram2d"
           }
          ],
          "histogram2dcontour": [
           {
            "colorbar": {
             "outlinewidth": 0,
             "ticks": ""
            },
            "colorscale": [
             [
              0,
              "#0d0887"
             ],
             [
              0.1111111111111111,
              "#46039f"
             ],
             [
              0.2222222222222222,
              "#7201a8"
             ],
             [
              0.3333333333333333,
              "#9c179e"
             ],
             [
              0.4444444444444444,
              "#bd3786"
             ],
             [
              0.5555555555555556,
              "#d8576b"
             ],
             [
              0.6666666666666666,
              "#ed7953"
             ],
             [
              0.7777777777777778,
              "#fb9f3a"
             ],
             [
              0.8888888888888888,
              "#fdca26"
             ],
             [
              1,
              "#f0f921"
             ]
            ],
            "type": "histogram2dcontour"
           }
          ],
          "mesh3d": [
           {
            "colorbar": {
             "outlinewidth": 0,
             "ticks": ""
            },
            "type": "mesh3d"
           }
          ],
          "parcoords": [
           {
            "line": {
             "colorbar": {
              "outlinewidth": 0,
              "ticks": ""
             }
            },
            "type": "parcoords"
           }
          ],
          "pie": [
           {
            "automargin": true,
            "type": "pie"
           }
          ],
          "scatter": [
           {
            "fillpattern": {
             "fillmode": "overlay",
             "size": 10,
             "solidity": 0.2
            },
            "type": "scatter"
           }
          ],
          "scatter3d": [
           {
            "line": {
             "colorbar": {
              "outlinewidth": 0,
              "ticks": ""
             }
            },
            "marker": {
             "colorbar": {
              "outlinewidth": 0,
              "ticks": ""
             }
            },
            "type": "scatter3d"
           }
          ],
          "scattercarpet": [
           {
            "marker": {
             "colorbar": {
              "outlinewidth": 0,
              "ticks": ""
             }
            },
            "type": "scattercarpet"
           }
          ],
          "scattergeo": [
           {
            "marker": {
             "colorbar": {
              "outlinewidth": 0,
              "ticks": ""
             }
            },
            "type": "scattergeo"
           }
          ],
          "scattergl": [
           {
            "marker": {
             "colorbar": {
              "outlinewidth": 0,
              "ticks": ""
             }
            },
            "type": "scattergl"
           }
          ],
          "scattermapbox": [
           {
            "marker": {
             "colorbar": {
              "outlinewidth": 0,
              "ticks": ""
             }
            },
            "type": "scattermapbox"
           }
          ],
          "scatterpolar": [
           {
            "marker": {
             "colorbar": {
              "outlinewidth": 0,
              "ticks": ""
             }
            },
            "type": "scatterpolar"
           }
          ],
          "scatterpolargl": [
           {
            "marker": {
             "colorbar": {
              "outlinewidth": 0,
              "ticks": ""
             }
            },
            "type": "scatterpolargl"
           }
          ],
          "scatterternary": [
           {
            "marker": {
             "colorbar": {
              "outlinewidth": 0,
              "ticks": ""
             }
            },
            "type": "scatterternary"
           }
          ],
          "surface": [
           {
            "colorbar": {
             "outlinewidth": 0,
             "ticks": ""
            },
            "colorscale": [
             [
              0,
              "#0d0887"
             ],
             [
              0.1111111111111111,
              "#46039f"
             ],
             [
              0.2222222222222222,
              "#7201a8"
             ],
             [
              0.3333333333333333,
              "#9c179e"
             ],
             [
              0.4444444444444444,
              "#bd3786"
             ],
             [
              0.5555555555555556,
              "#d8576b"
             ],
             [
              0.6666666666666666,
              "#ed7953"
             ],
             [
              0.7777777777777778,
              "#fb9f3a"
             ],
             [
              0.8888888888888888,
              "#fdca26"
             ],
             [
              1,
              "#f0f921"
             ]
            ],
            "type": "surface"
           }
          ],
          "table": [
           {
            "cells": {
             "fill": {
              "color": "#EBF0F8"
             },
             "line": {
              "color": "white"
             }
            },
            "header": {
             "fill": {
              "color": "#C8D4E3"
             },
             "line": {
              "color": "white"
             }
            },
            "type": "table"
           }
          ]
         },
         "layout": {
          "annotationdefaults": {
           "arrowcolor": "#2a3f5f",
           "arrowhead": 0,
           "arrowwidth": 1
          },
          "autotypenumbers": "strict",
          "coloraxis": {
           "colorbar": {
            "outlinewidth": 0,
            "ticks": ""
           }
          },
          "colorscale": {
           "diverging": [
            [
             0,
             "#8e0152"
            ],
            [
             0.1,
             "#c51b7d"
            ],
            [
             0.2,
             "#de77ae"
            ],
            [
             0.3,
             "#f1b6da"
            ],
            [
             0.4,
             "#fde0ef"
            ],
            [
             0.5,
             "#f7f7f7"
            ],
            [
             0.6,
             "#e6f5d0"
            ],
            [
             0.7,
             "#b8e186"
            ],
            [
             0.8,
             "#7fbc41"
            ],
            [
             0.9,
             "#4d9221"
            ],
            [
             1,
             "#276419"
            ]
           ],
           "sequential": [
            [
             0,
             "#0d0887"
            ],
            [
             0.1111111111111111,
             "#46039f"
            ],
            [
             0.2222222222222222,
             "#7201a8"
            ],
            [
             0.3333333333333333,
             "#9c179e"
            ],
            [
             0.4444444444444444,
             "#bd3786"
            ],
            [
             0.5555555555555556,
             "#d8576b"
            ],
            [
             0.6666666666666666,
             "#ed7953"
            ],
            [
             0.7777777777777778,
             "#fb9f3a"
            ],
            [
             0.8888888888888888,
             "#fdca26"
            ],
            [
             1,
             "#f0f921"
            ]
           ],
           "sequentialminus": [
            [
             0,
             "#0d0887"
            ],
            [
             0.1111111111111111,
             "#46039f"
            ],
            [
             0.2222222222222222,
             "#7201a8"
            ],
            [
             0.3333333333333333,
             "#9c179e"
            ],
            [
             0.4444444444444444,
             "#bd3786"
            ],
            [
             0.5555555555555556,
             "#d8576b"
            ],
            [
             0.6666666666666666,
             "#ed7953"
            ],
            [
             0.7777777777777778,
             "#fb9f3a"
            ],
            [
             0.8888888888888888,
             "#fdca26"
            ],
            [
             1,
             "#f0f921"
            ]
           ]
          },
          "colorway": [
           "#636efa",
           "#EF553B",
           "#00cc96",
           "#ab63fa",
           "#FFA15A",
           "#19d3f3",
           "#FF6692",
           "#B6E880",
           "#FF97FF",
           "#FECB52"
          ],
          "font": {
           "color": "#2a3f5f"
          },
          "geo": {
           "bgcolor": "white",
           "lakecolor": "white",
           "landcolor": "white",
           "showlakes": true,
           "showland": true,
           "subunitcolor": "#C8D4E3"
          },
          "hoverlabel": {
           "align": "left"
          },
          "hovermode": "closest",
          "mapbox": {
           "style": "light"
          },
          "paper_bgcolor": "white",
          "plot_bgcolor": "white",
          "polar": {
           "angularaxis": {
            "gridcolor": "#EBF0F8",
            "linecolor": "#EBF0F8",
            "ticks": ""
           },
           "bgcolor": "white",
           "radialaxis": {
            "gridcolor": "#EBF0F8",
            "linecolor": "#EBF0F8",
            "ticks": ""
           }
          },
          "scene": {
           "xaxis": {
            "backgroundcolor": "white",
            "gridcolor": "#DFE8F3",
            "gridwidth": 2,
            "linecolor": "#EBF0F8",
            "showbackground": true,
            "ticks": "",
            "zerolinecolor": "#EBF0F8"
           },
           "yaxis": {
            "backgroundcolor": "white",
            "gridcolor": "#DFE8F3",
            "gridwidth": 2,
            "linecolor": "#EBF0F8",
            "showbackground": true,
            "ticks": "",
            "zerolinecolor": "#EBF0F8"
           },
           "zaxis": {
            "backgroundcolor": "white",
            "gridcolor": "#DFE8F3",
            "gridwidth": 2,
            "linecolor": "#EBF0F8",
            "showbackground": true,
            "ticks": "",
            "zerolinecolor": "#EBF0F8"
           }
          },
          "shapedefaults": {
           "line": {
            "color": "#2a3f5f"
           }
          },
          "ternary": {
           "aaxis": {
            "gridcolor": "#DFE8F3",
            "linecolor": "#A2B1C6",
            "ticks": ""
           },
           "baxis": {
            "gridcolor": "#DFE8F3",
            "linecolor": "#A2B1C6",
            "ticks": ""
           },
           "bgcolor": "white",
           "caxis": {
            "gridcolor": "#DFE8F3",
            "linecolor": "#A2B1C6",
            "ticks": ""
           }
          },
          "title": {
           "x": 0.05
          },
          "xaxis": {
           "automargin": true,
           "gridcolor": "#EBF0F8",
           "linecolor": "#EBF0F8",
           "ticks": "",
           "title": {
            "standoff": 15
           },
           "zerolinecolor": "#EBF0F8",
           "zerolinewidth": 2
          },
          "yaxis": {
           "automargin": true,
           "gridcolor": "#EBF0F8",
           "linecolor": "#EBF0F8",
           "ticks": "",
           "title": {
            "standoff": 15
           },
           "zerolinecolor": "#EBF0F8",
           "zerolinewidth": 2
          }
         }
        },
        "title": {
         "text": "X by category and subcategory"
        },
        "width": 850,
        "xaxis": {
         "categoryarray": [
          "category_15",
          "category_19",
          "category_18",
          "category_12",
          "category_00",
          "category_13",
          "category_14",
          "category_10",
          "category_01",
          "category_02"
         ],
         "categoryorder": "array",
         "tickangle": 90,
         "title": {
          "text": "Category"
         }
        },
        "yaxis": {
         "title": {
          "text": "X"
         }
        }
       }
      }
     },
     "metadata": {},
     "output_type": "display_data"
    }
   ],
   "source": [
    "# Grouped vertical bar chart with multiple categories\n",
    "\n",
    "d_plot = d_plot\n",
    "val_name = \"x\"\n",
    "cat_name = \"category\"\n",
    "cat_values = (\n",
    "    d_plot.groupby([cat_name])[val_name]\n",
    "    .sum()\n",
    "    .reset_index()\n",
    "    .sort_values(val_name, ascending=False)[cat_name]\n",
    "    .head(10)\n",
    ")\n",
    "subcat_name = \"subcategory\"\n",
    "subcat_values = [\"hello\", \"world\"]\n",
    "colors = [\"cornflowerblue\", \"coral\"]\n",
    "e = (\n",
    "    d_plot[\n",
    "        (d_plot[cat_name].isin(cat_values)) & (d_plot[subcat_name].isin(subcat_values))\n",
    "    ]\n",
    "    .groupby([cat_name, subcat_name])[[val_name]]\n",
    "    .sum()\n",
    "    .reset_index()\n",
    "    .sort_values(val_name, ascending=True)\n",
    ")\n",
    "if len(e) > 30:\n",
    "    raise ValueError(\"Too many values to plot\")\n",
    "\n",
    "fig = go.Figure()\n",
    "for i, subcategory in enumerate(subcat_values):\n",
    "    fig.add_trace(\n",
    "        go.Bar(\n",
    "            x=e[(e[cat_name].isin(cat_values)) & (e[subcat_name] == subcategory)][\n",
    "                cat_name\n",
    "            ],\n",
    "            y=e[(e[cat_name].isin(cat_values)) & (e[subcat_name] == subcategory)][\n",
    "                val_name\n",
    "            ],\n",
    "            text=e[(e[cat_name].isin(cat_values)) & (e[subcat_name] == subcategory)][\n",
    "                val_name\n",
    "            ].round(1),\n",
    "            name=subcategory,\n",
    "            showlegend=True,\n",
    "            marker=dict(color=colors[i]),\n",
    "        )\n",
    "    )\n",
    "fig.update_traces(hovertemplate=\"%{y}\")\n",
    "fig.update_layout(\n",
    "    barmode=\"group\",\n",
    "    template=\"plotly_white\",\n",
    "    width=50 + len(cat_values) * len(subcat_values) * 40,\n",
    "    height=600,\n",
    "    title=f\"{val_name.capitalize()} by {cat_name} and {subcat_name}\",\n",
    "    legend_title=subcat_name.capitalize(),\n",
    "    showlegend=True,\n",
    ")\n",
    "fig.update_xaxes(\n",
    "    title=cat_name.capitalize(),\n",
    "    tickangle=90,\n",
    "    categoryorder=\"array\",\n",
    "    categoryarray=cat_values,\n",
    ")\n",
    "fig.update_yaxes(title=val_name.capitalize(), range=None, dtick=None)\n",
    "fig.show()"
   ]
  },
  {
   "cell_type": "code",
   "execution_count": 6,
   "metadata": {},
   "outputs": [
    {
     "data": {
      "application/vnd.plotly.v1+json": {
       "config": {
        "plotlyServerURL": "https://plot.ly"
       },
       "data": [
        {
         "hovertemplate": "%{x}",
         "marker": {
          "color": "cornflowerblue"
         },
         "name": "hello",
         "orientation": "h",
         "showlegend": true,
         "text": [
          103.2,
          106.7,
          121.9,
          126.1,
          127,
          128.2,
          131.9,
          143,
          155.4,
          161.9
         ],
         "type": "bar",
         "x": [
          103.2172028418059,
          106.74768060374994,
          121.87539562191706,
          126.14988190202453,
          126.96758881999115,
          128.2329973783267,
          131.91509714864355,
          143.04992837168174,
          155.4418277705562,
          161.85238576263242
         ],
         "y": [
          "category_14",
          "category_01",
          "category_13",
          "category_00",
          "category_12",
          "category_02",
          "category_10",
          "category_15",
          "category_19",
          "category_18"
         ]
        },
        {
         "hovertemplate": "%{x}",
         "marker": {
          "color": "coral"
         },
         "name": "world",
         "orientation": "h",
         "showlegend": true,
         "text": [
          119.3,
          125.4,
          129.5,
          129.5,
          141.8,
          142.1,
          144.6,
          144.6,
          151.4,
          160.4
         ],
         "type": "bar",
         "x": [
          119.29624449685758,
          125.4144995589659,
          129.47994329212202,
          129.51855959159215,
          141.8170615329676,
          142.10478626701223,
          144.55515344648907,
          144.62400895844112,
          151.41822352245111,
          160.4416828469347
         ],
         "y": [
          "category_18",
          "category_02",
          "category_19",
          "category_10",
          "category_00",
          "category_12",
          "category_15",
          "category_13",
          "category_01",
          "category_14"
         ]
        }
       ],
       "layout": {
        "barmode": "group",
        "height": 850,
        "legend": {
         "title": {
          "text": "Subcategory"
         }
        },
        "showlegend": true,
        "template": {
         "data": {
          "bar": [
           {
            "error_x": {
             "color": "#2a3f5f"
            },
            "error_y": {
             "color": "#2a3f5f"
            },
            "marker": {
             "line": {
              "color": "white",
              "width": 0.5
             },
             "pattern": {
              "fillmode": "overlay",
              "size": 10,
              "solidity": 0.2
             }
            },
            "type": "bar"
           }
          ],
          "barpolar": [
           {
            "marker": {
             "line": {
              "color": "white",
              "width": 0.5
             },
             "pattern": {
              "fillmode": "overlay",
              "size": 10,
              "solidity": 0.2
             }
            },
            "type": "barpolar"
           }
          ],
          "carpet": [
           {
            "aaxis": {
             "endlinecolor": "#2a3f5f",
             "gridcolor": "#C8D4E3",
             "linecolor": "#C8D4E3",
             "minorgridcolor": "#C8D4E3",
             "startlinecolor": "#2a3f5f"
            },
            "baxis": {
             "endlinecolor": "#2a3f5f",
             "gridcolor": "#C8D4E3",
             "linecolor": "#C8D4E3",
             "minorgridcolor": "#C8D4E3",
             "startlinecolor": "#2a3f5f"
            },
            "type": "carpet"
           }
          ],
          "choropleth": [
           {
            "colorbar": {
             "outlinewidth": 0,
             "ticks": ""
            },
            "type": "choropleth"
           }
          ],
          "contour": [
           {
            "colorbar": {
             "outlinewidth": 0,
             "ticks": ""
            },
            "colorscale": [
             [
              0,
              "#0d0887"
             ],
             [
              0.1111111111111111,
              "#46039f"
             ],
             [
              0.2222222222222222,
              "#7201a8"
             ],
             [
              0.3333333333333333,
              "#9c179e"
             ],
             [
              0.4444444444444444,
              "#bd3786"
             ],
             [
              0.5555555555555556,
              "#d8576b"
             ],
             [
              0.6666666666666666,
              "#ed7953"
             ],
             [
              0.7777777777777778,
              "#fb9f3a"
             ],
             [
              0.8888888888888888,
              "#fdca26"
             ],
             [
              1,
              "#f0f921"
             ]
            ],
            "type": "contour"
           }
          ],
          "contourcarpet": [
           {
            "colorbar": {
             "outlinewidth": 0,
             "ticks": ""
            },
            "type": "contourcarpet"
           }
          ],
          "heatmap": [
           {
            "colorbar": {
             "outlinewidth": 0,
             "ticks": ""
            },
            "colorscale": [
             [
              0,
              "#0d0887"
             ],
             [
              0.1111111111111111,
              "#46039f"
             ],
             [
              0.2222222222222222,
              "#7201a8"
             ],
             [
              0.3333333333333333,
              "#9c179e"
             ],
             [
              0.4444444444444444,
              "#bd3786"
             ],
             [
              0.5555555555555556,
              "#d8576b"
             ],
             [
              0.6666666666666666,
              "#ed7953"
             ],
             [
              0.7777777777777778,
              "#fb9f3a"
             ],
             [
              0.8888888888888888,
              "#fdca26"
             ],
             [
              1,
              "#f0f921"
             ]
            ],
            "type": "heatmap"
           }
          ],
          "heatmapgl": [
           {
            "colorbar": {
             "outlinewidth": 0,
             "ticks": ""
            },
            "colorscale": [
             [
              0,
              "#0d0887"
             ],
             [
              0.1111111111111111,
              "#46039f"
             ],
             [
              0.2222222222222222,
              "#7201a8"
             ],
             [
              0.3333333333333333,
              "#9c179e"
             ],
             [
              0.4444444444444444,
              "#bd3786"
             ],
             [
              0.5555555555555556,
              "#d8576b"
             ],
             [
              0.6666666666666666,
              "#ed7953"
             ],
             [
              0.7777777777777778,
              "#fb9f3a"
             ],
             [
              0.8888888888888888,
              "#fdca26"
             ],
             [
              1,
              "#f0f921"
             ]
            ],
            "type": "heatmapgl"
           }
          ],
          "histogram": [
           {
            "marker": {
             "pattern": {
              "fillmode": "overlay",
              "size": 10,
              "solidity": 0.2
             }
            },
            "type": "histogram"
           }
          ],
          "histogram2d": [
           {
            "colorbar": {
             "outlinewidth": 0,
             "ticks": ""
            },
            "colorscale": [
             [
              0,
              "#0d0887"
             ],
             [
              0.1111111111111111,
              "#46039f"
             ],
             [
              0.2222222222222222,
              "#7201a8"
             ],
             [
              0.3333333333333333,
              "#9c179e"
             ],
             [
              0.4444444444444444,
              "#bd3786"
             ],
             [
              0.5555555555555556,
              "#d8576b"
             ],
             [
              0.6666666666666666,
              "#ed7953"
             ],
             [
              0.7777777777777778,
              "#fb9f3a"
             ],
             [
              0.8888888888888888,
              "#fdca26"
             ],
             [
              1,
              "#f0f921"
             ]
            ],
            "type": "histogram2d"
           }
          ],
          "histogram2dcontour": [
           {
            "colorbar": {
             "outlinewidth": 0,
             "ticks": ""
            },
            "colorscale": [
             [
              0,
              "#0d0887"
             ],
             [
              0.1111111111111111,
              "#46039f"
             ],
             [
              0.2222222222222222,
              "#7201a8"
             ],
             [
              0.3333333333333333,
              "#9c179e"
             ],
             [
              0.4444444444444444,
              "#bd3786"
             ],
             [
              0.5555555555555556,
              "#d8576b"
             ],
             [
              0.6666666666666666,
              "#ed7953"
             ],
             [
              0.7777777777777778,
              "#fb9f3a"
             ],
             [
              0.8888888888888888,
              "#fdca26"
             ],
             [
              1,
              "#f0f921"
             ]
            ],
            "type": "histogram2dcontour"
           }
          ],
          "mesh3d": [
           {
            "colorbar": {
             "outlinewidth": 0,
             "ticks": ""
            },
            "type": "mesh3d"
           }
          ],
          "parcoords": [
           {
            "line": {
             "colorbar": {
              "outlinewidth": 0,
              "ticks": ""
             }
            },
            "type": "parcoords"
           }
          ],
          "pie": [
           {
            "automargin": true,
            "type": "pie"
           }
          ],
          "scatter": [
           {
            "fillpattern": {
             "fillmode": "overlay",
             "size": 10,
             "solidity": 0.2
            },
            "type": "scatter"
           }
          ],
          "scatter3d": [
           {
            "line": {
             "colorbar": {
              "outlinewidth": 0,
              "ticks": ""
             }
            },
            "marker": {
             "colorbar": {
              "outlinewidth": 0,
              "ticks": ""
             }
            },
            "type": "scatter3d"
           }
          ],
          "scattercarpet": [
           {
            "marker": {
             "colorbar": {
              "outlinewidth": 0,
              "ticks": ""
             }
            },
            "type": "scattercarpet"
           }
          ],
          "scattergeo": [
           {
            "marker": {
             "colorbar": {
              "outlinewidth": 0,
              "ticks": ""
             }
            },
            "type": "scattergeo"
           }
          ],
          "scattergl": [
           {
            "marker": {
             "colorbar": {
              "outlinewidth": 0,
              "ticks": ""
             }
            },
            "type": "scattergl"
           }
          ],
          "scattermapbox": [
           {
            "marker": {
             "colorbar": {
              "outlinewidth": 0,
              "ticks": ""
             }
            },
            "type": "scattermapbox"
           }
          ],
          "scatterpolar": [
           {
            "marker": {
             "colorbar": {
              "outlinewidth": 0,
              "ticks": ""
             }
            },
            "type": "scatterpolar"
           }
          ],
          "scatterpolargl": [
           {
            "marker": {
             "colorbar": {
              "outlinewidth": 0,
              "ticks": ""
             }
            },
            "type": "scatterpolargl"
           }
          ],
          "scatterternary": [
           {
            "marker": {
             "colorbar": {
              "outlinewidth": 0,
              "ticks": ""
             }
            },
            "type": "scatterternary"
           }
          ],
          "surface": [
           {
            "colorbar": {
             "outlinewidth": 0,
             "ticks": ""
            },
            "colorscale": [
             [
              0,
              "#0d0887"
             ],
             [
              0.1111111111111111,
              "#46039f"
             ],
             [
              0.2222222222222222,
              "#7201a8"
             ],
             [
              0.3333333333333333,
              "#9c179e"
             ],
             [
              0.4444444444444444,
              "#bd3786"
             ],
             [
              0.5555555555555556,
              "#d8576b"
             ],
             [
              0.6666666666666666,
              "#ed7953"
             ],
             [
              0.7777777777777778,
              "#fb9f3a"
             ],
             [
              0.8888888888888888,
              "#fdca26"
             ],
             [
              1,
              "#f0f921"
             ]
            ],
            "type": "surface"
           }
          ],
          "table": [
           {
            "cells": {
             "fill": {
              "color": "#EBF0F8"
             },
             "line": {
              "color": "white"
             }
            },
            "header": {
             "fill": {
              "color": "#C8D4E3"
             },
             "line": {
              "color": "white"
             }
            },
            "type": "table"
           }
          ]
         },
         "layout": {
          "annotationdefaults": {
           "arrowcolor": "#2a3f5f",
           "arrowhead": 0,
           "arrowwidth": 1
          },
          "autotypenumbers": "strict",
          "coloraxis": {
           "colorbar": {
            "outlinewidth": 0,
            "ticks": ""
           }
          },
          "colorscale": {
           "diverging": [
            [
             0,
             "#8e0152"
            ],
            [
             0.1,
             "#c51b7d"
            ],
            [
             0.2,
             "#de77ae"
            ],
            [
             0.3,
             "#f1b6da"
            ],
            [
             0.4,
             "#fde0ef"
            ],
            [
             0.5,
             "#f7f7f7"
            ],
            [
             0.6,
             "#e6f5d0"
            ],
            [
             0.7,
             "#b8e186"
            ],
            [
             0.8,
             "#7fbc41"
            ],
            [
             0.9,
             "#4d9221"
            ],
            [
             1,
             "#276419"
            ]
           ],
           "sequential": [
            [
             0,
             "#0d0887"
            ],
            [
             0.1111111111111111,
             "#46039f"
            ],
            [
             0.2222222222222222,
             "#7201a8"
            ],
            [
             0.3333333333333333,
             "#9c179e"
            ],
            [
             0.4444444444444444,
             "#bd3786"
            ],
            [
             0.5555555555555556,
             "#d8576b"
            ],
            [
             0.6666666666666666,
             "#ed7953"
            ],
            [
             0.7777777777777778,
             "#fb9f3a"
            ],
            [
             0.8888888888888888,
             "#fdca26"
            ],
            [
             1,
             "#f0f921"
            ]
           ],
           "sequentialminus": [
            [
             0,
             "#0d0887"
            ],
            [
             0.1111111111111111,
             "#46039f"
            ],
            [
             0.2222222222222222,
             "#7201a8"
            ],
            [
             0.3333333333333333,
             "#9c179e"
            ],
            [
             0.4444444444444444,
             "#bd3786"
            ],
            [
             0.5555555555555556,
             "#d8576b"
            ],
            [
             0.6666666666666666,
             "#ed7953"
            ],
            [
             0.7777777777777778,
             "#fb9f3a"
            ],
            [
             0.8888888888888888,
             "#fdca26"
            ],
            [
             1,
             "#f0f921"
            ]
           ]
          },
          "colorway": [
           "#636efa",
           "#EF553B",
           "#00cc96",
           "#ab63fa",
           "#FFA15A",
           "#19d3f3",
           "#FF6692",
           "#B6E880",
           "#FF97FF",
           "#FECB52"
          ],
          "font": {
           "color": "#2a3f5f"
          },
          "geo": {
           "bgcolor": "white",
           "lakecolor": "white",
           "landcolor": "white",
           "showlakes": true,
           "showland": true,
           "subunitcolor": "#C8D4E3"
          },
          "hoverlabel": {
           "align": "left"
          },
          "hovermode": "closest",
          "mapbox": {
           "style": "light"
          },
          "paper_bgcolor": "white",
          "plot_bgcolor": "white",
          "polar": {
           "angularaxis": {
            "gridcolor": "#EBF0F8",
            "linecolor": "#EBF0F8",
            "ticks": ""
           },
           "bgcolor": "white",
           "radialaxis": {
            "gridcolor": "#EBF0F8",
            "linecolor": "#EBF0F8",
            "ticks": ""
           }
          },
          "scene": {
           "xaxis": {
            "backgroundcolor": "white",
            "gridcolor": "#DFE8F3",
            "gridwidth": 2,
            "linecolor": "#EBF0F8",
            "showbackground": true,
            "ticks": "",
            "zerolinecolor": "#EBF0F8"
           },
           "yaxis": {
            "backgroundcolor": "white",
            "gridcolor": "#DFE8F3",
            "gridwidth": 2,
            "linecolor": "#EBF0F8",
            "showbackground": true,
            "ticks": "",
            "zerolinecolor": "#EBF0F8"
           },
           "zaxis": {
            "backgroundcolor": "white",
            "gridcolor": "#DFE8F3",
            "gridwidth": 2,
            "linecolor": "#EBF0F8",
            "showbackground": true,
            "ticks": "",
            "zerolinecolor": "#EBF0F8"
           }
          },
          "shapedefaults": {
           "line": {
            "color": "#2a3f5f"
           }
          },
          "ternary": {
           "aaxis": {
            "gridcolor": "#DFE8F3",
            "linecolor": "#A2B1C6",
            "ticks": ""
           },
           "baxis": {
            "gridcolor": "#DFE8F3",
            "linecolor": "#A2B1C6",
            "ticks": ""
           },
           "bgcolor": "white",
           "caxis": {
            "gridcolor": "#DFE8F3",
            "linecolor": "#A2B1C6",
            "ticks": ""
           }
          },
          "title": {
           "x": 0.05
          },
          "xaxis": {
           "automargin": true,
           "gridcolor": "#EBF0F8",
           "linecolor": "#EBF0F8",
           "ticks": "",
           "title": {
            "standoff": 15
           },
           "zerolinecolor": "#EBF0F8",
           "zerolinewidth": 2
          },
          "yaxis": {
           "automargin": true,
           "gridcolor": "#EBF0F8",
           "linecolor": "#EBF0F8",
           "ticks": "",
           "title": {
            "standoff": 15
           },
           "zerolinecolor": "#EBF0F8",
           "zerolinewidth": 2
          }
         }
        },
        "title": {
         "text": "X by category and subcategory"
        },
        "width": 900,
        "xaxis": {
         "title": {
          "text": "X"
         }
        },
        "yaxis": {
         "autorange": "reversed",
         "categoryarray": [
          "category_15",
          "category_19",
          "category_18",
          "category_12",
          "category_00",
          "category_13",
          "category_14",
          "category_10",
          "category_01",
          "category_02"
         ],
         "categoryorder": "array",
         "title": {
          "text": "Category"
         }
        }
       }
      }
     },
     "metadata": {},
     "output_type": "display_data"
    }
   ],
   "source": [
    "# Grouped horizontal bar chart with multiple categories\n",
    "\n",
    "d_plot = d_plot\n",
    "val_name = \"x\"\n",
    "cat_name = \"category\"\n",
    "cat_values = (\n",
    "    d_plot.groupby([cat_name])[val_name]\n",
    "    .sum()\n",
    "    .reset_index()\n",
    "    .sort_values(val_name, ascending=False)[cat_name]\n",
    "    .head(10)\n",
    ")\n",
    "subcat_name = \"subcategory\"\n",
    "subcat_values = [\"hello\", \"world\"]\n",
    "colors = [\"cornflowerblue\", \"coral\"]\n",
    "e = (\n",
    "    d_plot[\n",
    "        (d_plot[cat_name].isin(cat_values)) & (d_plot[subcat_name].isin(subcat_values))\n",
    "    ]\n",
    "    .groupby([cat_name, subcat_name])[[val_name]]\n",
    "    .sum()\n",
    "    .reset_index()\n",
    "    .sort_values(val_name, ascending=True)\n",
    ")\n",
    "if len(e) > 30:\n",
    "    raise ValueError(\"Too many values to plot\")\n",
    "\n",
    "fig = go.Figure()\n",
    "for i, subcategory in enumerate(subcat_values):\n",
    "    fig.add_trace(\n",
    "        go.Bar(\n",
    "            x=e[(e[cat_name].isin(cat_values)) & (e[subcat_name] == subcategory)][\n",
    "                val_name\n",
    "            ],\n",
    "            y=e[(e[cat_name].isin(cat_values)) & (e[subcat_name] == subcategory)][\n",
    "                cat_name\n",
    "            ],\n",
    "            text=e[(e[cat_name].isin(cat_values)) & (e[subcat_name] == subcategory)][\n",
    "                val_name\n",
    "            ].round(1),\n",
    "            name=subcategory,\n",
    "            showlegend=True,\n",
    "            marker=dict(color=colors[i]),\n",
    "        )\n",
    "    )\n",
    "fig.update_traces(hovertemplate=\"%{x}\")\n",
    "fig.update_layout(\n",
    "    barmode=\"group\",\n",
    "    template=\"plotly_white\",\n",
    "    width=900,\n",
    "    height=50 + len(cat_values) * len(subcat_values) * 40,\n",
    "    title=f\"{val_name.capitalize()} by {cat_name} and {subcat_name}\",\n",
    "    legend_title=subcat_name.capitalize(),\n",
    "    showlegend=True,\n",
    ")\n",
    "fig.update_traces(orientation=\"h\")\n",
    "fig.update_xaxes(title=val_name.capitalize(), range=None, dtick=None)\n",
    "fig.update_yaxes(\n",
    "    title=cat_name.capitalize(),\n",
    "    autorange=\"reversed\",\n",
    "    categoryorder=\"array\",\n",
    "    categoryarray=cat_values,\n",
    ")\n",
    "fig.show()"
   ]
  }
 ],
 "metadata": {
  "kernelspec": {
   "display_name": ".venv",
   "language": "python",
   "name": "python3"
  },
  "language_info": {
   "codemirror_mode": {
    "name": "ipython",
    "version": 3
   },
   "file_extension": ".py",
   "mimetype": "text/x-python",
   "name": "python",
   "nbconvert_exporter": "python",
   "pygments_lexer": "ipython3",
   "version": "3.11.6"
  }
 },
 "nbformat": 4,
 "nbformat_minor": 2
}
